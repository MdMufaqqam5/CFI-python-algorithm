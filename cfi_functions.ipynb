{
  "nbformat": 4,
  "nbformat_minor": 0,
  "metadata": {
    "colab": {
      "provenance": []
    },
    "kernelspec": {
      "name": "python3",
      "display_name": "Python 3"
    },
    "language_info": {
      "name": "python"
    }
  },
  "cells": [
    {
      "cell_type": "code",
      "execution_count": 5,
      "metadata": {
        "id": "7O99FRCkeaJ5"
      },
      "outputs": [],
      "source": [
        "def summation():\n",
        "    n1= int(input(\"enter the 1 number: \"))\n",
        "    n2= int(input(\"enter the 2 number: \"))\n",
        "    sum=0\n",
        "    for i in range(n1,n2+1):\n",
        "        sum+=i\n",
        "    print(sum)"
      ]
    },
    {
      "cell_type": "code",
      "source": [
        "summation()"
      ],
      "metadata": {
        "colab": {
          "base_uri": "https://localhost:8080/"
        },
        "id": "d91JvkjxfkFE",
        "outputId": "254d31d3-7c89-4060-bdee-bdd4405dd918"
      },
      "execution_count": 6,
      "outputs": [
        {
          "output_type": "stream",
          "name": "stdout",
          "text": [
            "enter the 1 number: 1\n",
            "enter the 2 number: 10\n",
            "55\n"
          ]
        }
      ]
    },
    {
      "cell_type": "code",
      "source": [
        "def summation1(n1,n2):\n",
        "  sum = 0\n",
        "  for i in range(n1,n2+1):\n",
        "    sum+=i\n",
        "  print(sum)"
      ],
      "metadata": {
        "id": "oxbiZKZfgC7h"
      },
      "execution_count": 13,
      "outputs": []
    },
    {
      "cell_type": "code",
      "source": [
        "summation1(1,10)"
      ],
      "metadata": {
        "colab": {
          "base_uri": "https://localhost:8080/"
        },
        "id": "V1n1y00XgQ3t",
        "outputId": "23293eaa-16fc-4cc7-8bd1-a01dc969b5fd"
      },
      "execution_count": 15,
      "outputs": [
        {
          "output_type": "stream",
          "name": "stdout",
          "text": [
            "55\n"
          ]
        }
      ]
    },
    {
      "cell_type": "code",
      "source": [
        "def summation2(n1=1, n2=10):\n",
        "  sum = 0\n",
        "  for i in range(n1, n2+1):\n",
        "    sum+=i\n",
        "  print(sum)"
      ],
      "metadata": {
        "id": "lmk3xp0Fgta3"
      },
      "execution_count": 16,
      "outputs": []
    },
    {
      "cell_type": "code",
      "source": [
        "summation2()"
      ],
      "metadata": {
        "colab": {
          "base_uri": "https://localhost:8080/"
        },
        "id": "n0RhSpprg4cN",
        "outputId": "43e6c640-22b2-4116-d733-f240cc68314f"
      },
      "execution_count": 17,
      "outputs": [
        {
          "output_type": "stream",
          "name": "stdout",
          "text": [
            "55\n"
          ]
        }
      ]
    }
  ]
}